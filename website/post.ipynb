{
 "cells": [
  {
   "cell_type": "markdown",
   "metadata": {},
   "source": [
    "# California's Vehicle Subsidy"
   ]
  },
  {
   "cell_type": "code",
   "execution_count": 1,
   "metadata": {},
   "outputs": [
    {
     "name": "stderr",
     "output_type": "stream",
     "text": [
      "/home/nikhil/policyengine/openfisca-us/openfisca_us/variables/demographic/person/vehicles_owned.py:28: RuntimeWarning: invalid value encountered in remainder\n",
      "  % num_adults_in_household\n"
     ]
    }
   ],
   "source": [
    "from openfisca_us import Microsimulation, ACS\n",
    "from ca_ubi.vehicle_subsidy import vehicle_subsidy\n",
    "from ca_ubi.ubi import create_ubi_reform\n",
    "\n",
    "baseline = Microsimulation(dataset=ACS, year=2019)\n",
    "state = baseline.calc(\"state_code\")\n",
    "in_ca = state == \"CA\"\n",
    "vehicle_subsidy_simulation = Microsimulation(vehicle_subsidy, dataset=ACS, year=2019)\n",
    "cost_of_vehicle_subsidy = vehicle_subsidy_simulation.calc(\"vehicle_subsidy_payment\", map_to=\"household\")[in_ca].sum()\n",
    "ubi_amount = cost_of_vehicle_subsidy / in_ca.sum()\n",
    "ubi_simulation = Microsimulation(create_ubi_reform(ubi_amount), dataset=ACS, year=2019)"
   ]
  },
  {
   "cell_type": "code",
   "execution_count": 30,
   "metadata": {},
   "outputs": [
    {
     "data": {
      "application/vnd.plotly.v1+json": {
       "config": {
        "displayModeBar": false,
        "plotlyServerURL": "https://plot.ly"
       },
       "data": [
        {
         "alignmentgroup": "True",
         "customdata": [
          [
           "The current poverty rate for <b>children</b> is <b>15.3%</b>"
          ],
          [
           "The current poverty rate for <b>adults</b> is <b>14.1%</b>"
          ],
          [
           "The current poverty rate for <b>seniors</b> is <b>13.2%</b>"
          ],
          [
           "The current poverty rate for <b>all</b> is <b>14.2%</b>"
          ]
         ],
         "hovertemplate": "%{customdata[0]}",
         "legendgroup": "Baseline",
         "marker": {
          "color": "#ABCEEB",
          "pattern": {
           "shape": ""
          }
         },
         "name": "Baseline",
         "offsetgroup": "Baseline",
         "orientation": "v",
         "showlegend": true,
         "textposition": "auto",
         "type": "bar",
         "x": [
          "Children",
          "Adults",
          "Seniors",
          "All"
         ],
         "xaxis": "x",
         "y": [
          0.15304549364131328,
          0.14095383514941626,
          0.132434136827688,
          0.14230172288242451
         ],
         "yaxis": "y"
        },
        {
         "alignmentgroup": "True",
         "customdata": [
          [
           "Under the vehicle subsidy, thepoverty rate for <b>children</b> would fall<br> to <b>14.7%</b> (-4.2%)"
          ],
          [
           "Under the vehicle subsidy, thepoverty rate for <b>adults</b> would fall<br> to <b>13.5%</b> (-11.6%)"
          ],
          [
           "Under the vehicle subsidy, thepoverty rate for <b>seniors</b> would fall<br> to <b>12.6%</b> (-17.9%)"
          ],
          [
           "Under the vehicle subsidy, thepoverty rate for <b>all</b> would fall<br> to <b>13.6%</b> (-10.9%)"
          ]
         ],
         "hovertemplate": "%{customdata[0]}",
         "legendgroup": "Vehicle subsidy",
         "marker": {
          "color": "#49A6E2",
          "pattern": {
           "shape": ""
          }
         },
         "name": "Vehicle subsidy",
         "offsetgroup": "Vehicle subsidy",
         "orientation": "v",
         "showlegend": true,
         "textposition": "auto",
         "type": "bar",
         "x": [
          "Children",
          "Adults",
          "Seniors",
          "All"
         ],
         "xaxis": "x",
         "y": [
          0.14663733175108132,
          0.1353207450222629,
          0.12568390376499297,
          0.13630916604214918
         ],
         "yaxis": "y"
        },
        {
         "alignmentgroup": "True",
         "customdata": [
          [
           "Under a UBI, the poverty rate for <b>children</b> would fall<br> to <b>11.0%</b> (-28.1%)"
          ],
          [
           "Under a UBI, the poverty rate for <b>adults</b> would fall<br> to <b>10.9%</b> (-28.9%)"
          ],
          [
           "Under a UBI, the poverty rate for <b>seniors</b> would fall<br> to <b>8.9%</b> (-41.9%)"
          ],
          [
           "Under a UBI, the poverty rate for <b>all</b> would fall<br> to <b>10.6%</b> (-30.9%)"
          ]
         ],
         "hovertemplate": "%{customdata[0]}",
         "legendgroup": "UBI",
         "marker": {
          "color": "#1976D2",
          "pattern": {
           "shape": ""
          }
         },
         "name": "UBI",
         "offsetgroup": "UBI",
         "orientation": "v",
         "showlegend": true,
         "textposition": "auto",
         "type": "bar",
         "x": [
          "Children",
          "Adults",
          "Seniors",
          "All"
         ],
         "xaxis": "x",
         "y": [
          0.11006236648889249,
          0.1087800204458594,
          0.08892478805568362,
          0.10581153804982703
         ],
         "yaxis": "y"
        }
       ],
       "frames": [
        {
         "data": [
          {
           "alignmentgroup": "True",
           "customdata": [
            [
             "The current poverty rate for <b>children</b> is <b>15.3%</b>"
            ],
            [
             "The current poverty rate for <b>adults</b> is <b>14.1%</b>"
            ],
            [
             "The current poverty rate for <b>seniors</b> is <b>13.2%</b>"
            ],
            [
             "The current poverty rate for <b>all</b> is <b>14.2%</b>"
            ]
           ],
           "hovertemplate": "Label=Baseline<br>Type=Poverty<br>Group=%{x}<br>Poverty rate=%{y}<extra></extra>",
           "legendgroup": "Baseline",
           "marker": {
            "color": "#ABCEEB",
            "pattern": {
             "shape": ""
            }
           },
           "name": "Baseline",
           "offsetgroup": "Baseline",
           "orientation": "v",
           "showlegend": true,
           "textposition": "auto",
           "type": "bar",
           "x": [
            "Children",
            "Adults",
            "Seniors",
            "All"
           ],
           "xaxis": "x",
           "y": [
            0.15304549364131328,
            0.14095383514941626,
            0.132434136827688,
            0.14230172288242451
           ],
           "yaxis": "y"
          },
          {
           "alignmentgroup": "True",
           "customdata": [
            [
             "Under the vehicle subsidy, thepoverty rate for <b>children</b> would fall<br> to <b>14.7%</b> (-4.2%)"
            ],
            [
             "Under the vehicle subsidy, thepoverty rate for <b>adults</b> would fall<br> to <b>13.5%</b> (-11.6%)"
            ],
            [
             "Under the vehicle subsidy, thepoverty rate for <b>seniors</b> would fall<br> to <b>12.6%</b> (-17.9%)"
            ],
            [
             "Under the vehicle subsidy, thepoverty rate for <b>all</b> would fall<br> to <b>13.6%</b> (-10.9%)"
            ]
           ],
           "hovertemplate": "Label=Vehicle subsidy<br>Type=Poverty<br>Group=%{x}<br>Poverty rate=%{y}<extra></extra>",
           "legendgroup": "Vehicle subsidy",
           "marker": {
            "color": "#49A6E2",
            "pattern": {
             "shape": ""
            }
           },
           "name": "Vehicle subsidy",
           "offsetgroup": "Vehicle subsidy",
           "orientation": "v",
           "showlegend": true,
           "textposition": "auto",
           "type": "bar",
           "x": [
            "Children",
            "Adults",
            "Seniors",
            "All"
           ],
           "xaxis": "x",
           "y": [
            0.14663733175108132,
            0.1353207450222629,
            0.12568390376499297,
            0.13630916604214918
           ],
           "yaxis": "y"
          },
          {
           "alignmentgroup": "True",
           "customdata": [
            [
             "Under a UBI, the poverty rate for <b>children</b> would fall<br> to <b>11.0%</b> (-28.1%)"
            ],
            [
             "Under a UBI, the poverty rate for <b>adults</b> would fall<br> to <b>10.9%</b> (-28.9%)"
            ],
            [
             "Under a UBI, the poverty rate for <b>seniors</b> would fall<br> to <b>8.9%</b> (-41.9%)"
            ],
            [
             "Under a UBI, the poverty rate for <b>all</b> would fall<br> to <b>10.6%</b> (-30.9%)"
            ]
           ],
           "hovertemplate": "Label=UBI<br>Type=Poverty<br>Group=%{x}<br>Poverty rate=%{y}<extra></extra>",
           "legendgroup": "UBI",
           "marker": {
            "color": "#1976D2",
            "pattern": {
             "shape": ""
            }
           },
           "name": "UBI",
           "offsetgroup": "UBI",
           "orientation": "v",
           "showlegend": true,
           "textposition": "auto",
           "type": "bar",
           "x": [
            "Children",
            "Adults",
            "Seniors",
            "All"
           ],
           "xaxis": "x",
           "y": [
            0.11006236648889249,
            0.1087800204458594,
            0.08892478805568362,
            0.10581153804982703
           ],
           "yaxis": "y"
          }
         ],
         "name": "Poverty"
        },
        {
         "data": [
          {
           "alignmentgroup": "True",
           "customdata": [
            [
             "The current deep poverty rate for <b>children</b> is <b>4.2%</b>"
            ],
            [
             "The current deep poverty rate for <b>adults</b> is <b>5.3%</b>"
            ],
            [
             "The current deep poverty rate for <b>seniors</b> is <b>4.2%</b>"
            ],
            [
             "The current deep poverty rate for <b>all</b> is <b>4.9%</b>"
            ]
           ],
           "hovertemplate": "Label=Baseline<br>Type=Deep poverty<br>Group=%{x}<br>Poverty rate=%{y}<extra></extra>",
           "legendgroup": "Baseline",
           "marker": {
            "color": "#ABCEEB",
            "pattern": {
             "shape": ""
            }
           },
           "name": "Baseline",
           "offsetgroup": "Baseline",
           "orientation": "v",
           "showlegend": true,
           "textposition": "auto",
           "type": "bar",
           "x": [
            "Children",
            "Adults",
            "Seniors",
            "All"
           ],
           "xaxis": "x",
           "y": [
            0.042484649015756284,
            0.05297285868459005,
            0.042479061456465246,
            0.048867620784660726
           ],
           "yaxis": "y"
          },
          {
           "alignmentgroup": "True",
           "customdata": [
            [
             "Under the vehicle subsidy, thedeep poverty rate for <b>children</b> would fall<br> to <b>4.0%</b> (-4.8%)"
            ],
            [
             "Under the vehicle subsidy, thedeep poverty rate for <b>adults</b> would fall<br> to <b>5.1%</b> (18.9%)"
            ],
            [
             "Under the vehicle subsidy, thedeep poverty rate for <b>seniors</b> would fall<br> to <b>4.0%</b> (-5.5%)"
            ],
            [
             "Under the vehicle subsidy, thedeep poverty rate for <b>all</b> would fall<br> to <b>4.7%</b> (9.5%)"
            ]
           ],
           "hovertemplate": "Label=Vehicle subsidy<br>Type=Deep poverty<br>Group=%{x}<br>Poverty rate=%{y}<extra></extra>",
           "legendgroup": "Vehicle subsidy",
           "marker": {
            "color": "#49A6E2",
            "pattern": {
             "shape": ""
            }
           },
           "name": "Vehicle subsidy",
           "offsetgroup": "Vehicle subsidy",
           "orientation": "v",
           "showlegend": true,
           "textposition": "auto",
           "type": "bar",
           "x": [
            "Children",
            "Adults",
            "Seniors",
            "All"
           ],
           "xaxis": "x",
           "y": [
            0.04045534206001236,
            0.0505171828238483,
            0.040140034907703445,
            0.04652794586684798
           ],
           "yaxis": "y"
          },
          {
           "alignmentgroup": "True",
           "customdata": [
            [
             "Under a UBI, the deep poverty rate for <b>children</b> would fall<br> to <b>2.7%</b> (-35.7%)"
            ],
            [
             "Under a UBI, the deep poverty rate for <b>adults</b> would fall<br> to <b>4.0%</b> (-6.5%)"
            ],
            [
             "Under a UBI, the deep poverty rate for <b>seniors</b> would fall<br> to <b>2.8%</b> (-34.3%)"
            ],
            [
             "Under a UBI, the deep poverty rate for <b>all</b> would fall<br> to <b>3.5%</b> (-17.7%)"
            ]
           ],
           "hovertemplate": "Label=UBI<br>Type=Deep poverty<br>Group=%{x}<br>Poverty rate=%{y}<extra></extra>",
           "legendgroup": "UBI",
           "marker": {
            "color": "#1976D2",
            "pattern": {
             "shape": ""
            }
           },
           "name": "UBI",
           "offsetgroup": "UBI",
           "orientation": "v",
           "showlegend": true,
           "textposition": "auto",
           "type": "bar",
           "x": [
            "Children",
            "Adults",
            "Seniors",
            "All"
           ],
           "xaxis": "x",
           "y": [
            0.02733529189730671,
            0.03973377112861023,
            0.027923366059804722,
            0.03497845846064621
           ],
           "yaxis": "y"
          }
         ],
         "name": "Deep poverty"
        }
       ],
       "layout": {
        "barmode": "group",
        "font": {
         "family": "Roboto"
        },
        "height": 600,
        "hoverlabel": {
         "align": "right"
        },
        "images": [
         {
          "sizex": 0.12,
          "sizey": 0.12,
          "source": "https://raw.githubusercontent.com/UBICenter/ubicenter.org/master/assets/images/logos/wide-blue.jpg",
          "x": 0.98,
          "xanchor": "right",
          "xref": "paper",
          "y": -0.12,
          "yanchor": "bottom",
          "yref": "paper"
         }
        ],
        "legend": {
         "title": {
          "text": ""
         },
         "tracegroupgap": 0
        },
        "margin": {
         "t": 60
        },
        "paper_bgcolor": "white",
        "plot_bgcolor": "white",
        "sliders": [
         {
          "active": 0,
          "currentvalue": {
           "prefix": "Type="
          },
          "len": 0.9,
          "pad": {
           "b": 10,
           "t": 60
          },
          "steps": [
           {
            "args": [
             [
              "Poverty"
             ],
             {
              "frame": {
               "duration": 0,
               "redraw": true
              },
              "fromcurrent": true,
              "mode": "immediate",
              "transition": {
               "duration": 0,
               "easing": "linear"
              }
             }
            ],
            "label": "Poverty",
            "method": "animate"
           },
           {
            "args": [
             [
              "Deep poverty"
             ],
             {
              "frame": {
               "duration": 0,
               "redraw": true
              },
              "fromcurrent": true,
              "mode": "immediate",
              "transition": {
               "duration": 0,
               "easing": "linear"
              }
             }
            ],
            "label": "Deep poverty",
            "method": "animate"
           }
          ],
          "x": 0.1,
          "xanchor": "left",
          "y": 0,
          "yanchor": "top"
         }
        ],
        "template": {
         "data": {
          "bar": [
           {
            "error_x": {
             "color": "#2a3f5f"
            },
            "error_y": {
             "color": "#2a3f5f"
            },
            "marker": {
             "line": {
              "color": "#E5ECF6",
              "width": 0.5
             },
             "pattern": {
              "fillmode": "overlay",
              "size": 10,
              "solidity": 0.2
             }
            },
            "type": "bar"
           }
          ],
          "barpolar": [
           {
            "marker": {
             "line": {
              "color": "#E5ECF6",
              "width": 0.5
             },
             "pattern": {
              "fillmode": "overlay",
              "size": 10,
              "solidity": 0.2
             }
            },
            "type": "barpolar"
           }
          ],
          "carpet": [
           {
            "aaxis": {
             "endlinecolor": "#2a3f5f",
             "gridcolor": "white",
             "linecolor": "white",
             "minorgridcolor": "white",
             "startlinecolor": "#2a3f5f"
            },
            "baxis": {
             "endlinecolor": "#2a3f5f",
             "gridcolor": "white",
             "linecolor": "white",
             "minorgridcolor": "white",
             "startlinecolor": "#2a3f5f"
            },
            "type": "carpet"
           }
          ],
          "choropleth": [
           {
            "colorbar": {
             "outlinewidth": 0,
             "ticks": ""
            },
            "type": "choropleth"
           }
          ],
          "contour": [
           {
            "colorbar": {
             "outlinewidth": 0,
             "ticks": ""
            },
            "colorscale": [
             [
              0,
              "#0d0887"
             ],
             [
              0.1111111111111111,
              "#46039f"
             ],
             [
              0.2222222222222222,
              "#7201a8"
             ],
             [
              0.3333333333333333,
              "#9c179e"
             ],
             [
              0.4444444444444444,
              "#bd3786"
             ],
             [
              0.5555555555555556,
              "#d8576b"
             ],
             [
              0.6666666666666666,
              "#ed7953"
             ],
             [
              0.7777777777777778,
              "#fb9f3a"
             ],
             [
              0.8888888888888888,
              "#fdca26"
             ],
             [
              1,
              "#f0f921"
             ]
            ],
            "type": "contour"
           }
          ],
          "contourcarpet": [
           {
            "colorbar": {
             "outlinewidth": 0,
             "ticks": ""
            },
            "type": "contourcarpet"
           }
          ],
          "heatmap": [
           {
            "colorbar": {
             "outlinewidth": 0,
             "ticks": ""
            },
            "colorscale": [
             [
              0,
              "#0d0887"
             ],
             [
              0.1111111111111111,
              "#46039f"
             ],
             [
              0.2222222222222222,
              "#7201a8"
             ],
             [
              0.3333333333333333,
              "#9c179e"
             ],
             [
              0.4444444444444444,
              "#bd3786"
             ],
             [
              0.5555555555555556,
              "#d8576b"
             ],
             [
              0.6666666666666666,
              "#ed7953"
             ],
             [
              0.7777777777777778,
              "#fb9f3a"
             ],
             [
              0.8888888888888888,
              "#fdca26"
             ],
             [
              1,
              "#f0f921"
             ]
            ],
            "type": "heatmap"
           }
          ],
          "heatmapgl": [
           {
            "colorbar": {
             "outlinewidth": 0,
             "ticks": ""
            },
            "colorscale": [
             [
              0,
              "#0d0887"
             ],
             [
              0.1111111111111111,
              "#46039f"
             ],
             [
              0.2222222222222222,
              "#7201a8"
             ],
             [
              0.3333333333333333,
              "#9c179e"
             ],
             [
              0.4444444444444444,
              "#bd3786"
             ],
             [
              0.5555555555555556,
              "#d8576b"
             ],
             [
              0.6666666666666666,
              "#ed7953"
             ],
             [
              0.7777777777777778,
              "#fb9f3a"
             ],
             [
              0.8888888888888888,
              "#fdca26"
             ],
             [
              1,
              "#f0f921"
             ]
            ],
            "type": "heatmapgl"
           }
          ],
          "histogram": [
           {
            "marker": {
             "pattern": {
              "fillmode": "overlay",
              "size": 10,
              "solidity": 0.2
             }
            },
            "type": "histogram"
           }
          ],
          "histogram2d": [
           {
            "colorbar": {
             "outlinewidth": 0,
             "ticks": ""
            },
            "colorscale": [
             [
              0,
              "#0d0887"
             ],
             [
              0.1111111111111111,
              "#46039f"
             ],
             [
              0.2222222222222222,
              "#7201a8"
             ],
             [
              0.3333333333333333,
              "#9c179e"
             ],
             [
              0.4444444444444444,
              "#bd3786"
             ],
             [
              0.5555555555555556,
              "#d8576b"
             ],
             [
              0.6666666666666666,
              "#ed7953"
             ],
             [
              0.7777777777777778,
              "#fb9f3a"
             ],
             [
              0.8888888888888888,
              "#fdca26"
             ],
             [
              1,
              "#f0f921"
             ]
            ],
            "type": "histogram2d"
           }
          ],
          "histogram2dcontour": [
           {
            "colorbar": {
             "outlinewidth": 0,
             "ticks": ""
            },
            "colorscale": [
             [
              0,
              "#0d0887"
             ],
             [
              0.1111111111111111,
              "#46039f"
             ],
             [
              0.2222222222222222,
              "#7201a8"
             ],
             [
              0.3333333333333333,
              "#9c179e"
             ],
             [
              0.4444444444444444,
              "#bd3786"
             ],
             [
              0.5555555555555556,
              "#d8576b"
             ],
             [
              0.6666666666666666,
              "#ed7953"
             ],
             [
              0.7777777777777778,
              "#fb9f3a"
             ],
             [
              0.8888888888888888,
              "#fdca26"
             ],
             [
              1,
              "#f0f921"
             ]
            ],
            "type": "histogram2dcontour"
           }
          ],
          "mesh3d": [
           {
            "colorbar": {
             "outlinewidth": 0,
             "ticks": ""
            },
            "type": "mesh3d"
           }
          ],
          "parcoords": [
           {
            "line": {
             "colorbar": {
              "outlinewidth": 0,
              "ticks": ""
             }
            },
            "type": "parcoords"
           }
          ],
          "pie": [
           {
            "automargin": true,
            "type": "pie"
           }
          ],
          "scatter": [
           {
            "marker": {
             "colorbar": {
              "outlinewidth": 0,
              "ticks": ""
             }
            },
            "type": "scatter"
           }
          ],
          "scatter3d": [
           {
            "line": {
             "colorbar": {
              "outlinewidth": 0,
              "ticks": ""
             }
            },
            "marker": {
             "colorbar": {
              "outlinewidth": 0,
              "ticks": ""
             }
            },
            "type": "scatter3d"
           }
          ],
          "scattercarpet": [
           {
            "marker": {
             "colorbar": {
              "outlinewidth": 0,
              "ticks": ""
             }
            },
            "type": "scattercarpet"
           }
          ],
          "scattergeo": [
           {
            "marker": {
             "colorbar": {
              "outlinewidth": 0,
              "ticks": ""
             }
            },
            "type": "scattergeo"
           }
          ],
          "scattergl": [
           {
            "marker": {
             "colorbar": {
              "outlinewidth": 0,
              "ticks": ""
             }
            },
            "type": "scattergl"
           }
          ],
          "scattermapbox": [
           {
            "marker": {
             "colorbar": {
              "outlinewidth": 0,
              "ticks": ""
             }
            },
            "type": "scattermapbox"
           }
          ],
          "scatterpolar": [
           {
            "marker": {
             "colorbar": {
              "outlinewidth": 0,
              "ticks": ""
             }
            },
            "type": "scatterpolar"
           }
          ],
          "scatterpolargl": [
           {
            "marker": {
             "colorbar": {
              "outlinewidth": 0,
              "ticks": ""
             }
            },
            "type": "scatterpolargl"
           }
          ],
          "scatterternary": [
           {
            "marker": {
             "colorbar": {
              "outlinewidth": 0,
              "ticks": ""
             }
            },
            "type": "scatterternary"
           }
          ],
          "surface": [
           {
            "colorbar": {
             "outlinewidth": 0,
             "ticks": ""
            },
            "colorscale": [
             [
              0,
              "#0d0887"
             ],
             [
              0.1111111111111111,
              "#46039f"
             ],
             [
              0.2222222222222222,
              "#7201a8"
             ],
             [
              0.3333333333333333,
              "#9c179e"
             ],
             [
              0.4444444444444444,
              "#bd3786"
             ],
             [
              0.5555555555555556,
              "#d8576b"
             ],
             [
              0.6666666666666666,
              "#ed7953"
             ],
             [
              0.7777777777777778,
              "#fb9f3a"
             ],
             [
              0.8888888888888888,
              "#fdca26"
             ],
             [
              1,
              "#f0f921"
             ]
            ],
            "type": "surface"
           }
          ],
          "table": [
           {
            "cells": {
             "fill": {
              "color": "#EBF0F8"
             },
             "line": {
              "color": "white"
             }
            },
            "header": {
             "fill": {
              "color": "#C8D4E3"
             },
             "line": {
              "color": "white"
             }
            },
            "type": "table"
           }
          ]
         },
         "layout": {
          "annotationdefaults": {
           "arrowcolor": "#2a3f5f",
           "arrowhead": 0,
           "arrowwidth": 1
          },
          "autotypenumbers": "strict",
          "coloraxis": {
           "colorbar": {
            "outlinewidth": 0,
            "ticks": ""
           }
          },
          "colorscale": {
           "diverging": [
            [
             0,
             "#8e0152"
            ],
            [
             0.1,
             "#c51b7d"
            ],
            [
             0.2,
             "#de77ae"
            ],
            [
             0.3,
             "#f1b6da"
            ],
            [
             0.4,
             "#fde0ef"
            ],
            [
             0.5,
             "#f7f7f7"
            ],
            [
             0.6,
             "#e6f5d0"
            ],
            [
             0.7,
             "#b8e186"
            ],
            [
             0.8,
             "#7fbc41"
            ],
            [
             0.9,
             "#4d9221"
            ],
            [
             1,
             "#276419"
            ]
           ],
           "sequential": [
            [
             0,
             "#0d0887"
            ],
            [
             0.1111111111111111,
             "#46039f"
            ],
            [
             0.2222222222222222,
             "#7201a8"
            ],
            [
             0.3333333333333333,
             "#9c179e"
            ],
            [
             0.4444444444444444,
             "#bd3786"
            ],
            [
             0.5555555555555556,
             "#d8576b"
            ],
            [
             0.6666666666666666,
             "#ed7953"
            ],
            [
             0.7777777777777778,
             "#fb9f3a"
            ],
            [
             0.8888888888888888,
             "#fdca26"
            ],
            [
             1,
             "#f0f921"
            ]
           ],
           "sequentialminus": [
            [
             0,
             "#0d0887"
            ],
            [
             0.1111111111111111,
             "#46039f"
            ],
            [
             0.2222222222222222,
             "#7201a8"
            ],
            [
             0.3333333333333333,
             "#9c179e"
            ],
            [
             0.4444444444444444,
             "#bd3786"
            ],
            [
             0.5555555555555556,
             "#d8576b"
            ],
            [
             0.6666666666666666,
             "#ed7953"
            ],
            [
             0.7777777777777778,
             "#fb9f3a"
            ],
            [
             0.8888888888888888,
             "#fdca26"
            ],
            [
             1,
             "#f0f921"
            ]
           ]
          },
          "colorway": [
           "#636efa",
           "#EF553B",
           "#00cc96",
           "#ab63fa",
           "#FFA15A",
           "#19d3f3",
           "#FF6692",
           "#B6E880",
           "#FF97FF",
           "#FECB52"
          ],
          "font": {
           "color": "#2a3f5f"
          },
          "geo": {
           "bgcolor": "white",
           "lakecolor": "white",
           "landcolor": "#E5ECF6",
           "showlakes": true,
           "showland": true,
           "subunitcolor": "white"
          },
          "hoverlabel": {
           "align": "left"
          },
          "hovermode": "closest",
          "mapbox": {
           "style": "light"
          },
          "paper_bgcolor": "white",
          "plot_bgcolor": "#E5ECF6",
          "polar": {
           "angularaxis": {
            "gridcolor": "white",
            "linecolor": "white",
            "ticks": ""
           },
           "bgcolor": "#E5ECF6",
           "radialaxis": {
            "gridcolor": "white",
            "linecolor": "white",
            "ticks": ""
           }
          },
          "scene": {
           "xaxis": {
            "backgroundcolor": "#E5ECF6",
            "gridcolor": "white",
            "gridwidth": 2,
            "linecolor": "white",
            "showbackground": true,
            "ticks": "",
            "zerolinecolor": "white"
           },
           "yaxis": {
            "backgroundcolor": "#E5ECF6",
            "gridcolor": "white",
            "gridwidth": 2,
            "linecolor": "white",
            "showbackground": true,
            "ticks": "",
            "zerolinecolor": "white"
           },
           "zaxis": {
            "backgroundcolor": "#E5ECF6",
            "gridcolor": "white",
            "gridwidth": 2,
            "linecolor": "white",
            "showbackground": true,
            "ticks": "",
            "zerolinecolor": "white"
           }
          },
          "shapedefaults": {
           "line": {
            "color": "#2a3f5f"
           }
          },
          "ternary": {
           "aaxis": {
            "gridcolor": "white",
            "linecolor": "white",
            "ticks": ""
           },
           "baxis": {
            "gridcolor": "white",
            "linecolor": "white",
            "ticks": ""
           },
           "bgcolor": "#E5ECF6",
           "caxis": {
            "gridcolor": "white",
            "linecolor": "white",
            "ticks": ""
           }
          },
          "title": {
           "x": 0.05
          },
          "xaxis": {
           "automargin": true,
           "gridcolor": "white",
           "linecolor": "white",
           "ticks": "",
           "title": {
            "standoff": 15
           },
           "zerolinecolor": "white",
           "zerolinewidth": 2
          },
          "yaxis": {
           "automargin": true,
           "gridcolor": "white",
           "linecolor": "white",
           "ticks": "",
           "title": {
            "standoff": 15
           },
           "zerolinecolor": "white",
           "zerolinewidth": 2
          }
         }
        },
        "title": {
         "font": {
          "size": 20
         },
         "text": "Poverty rate by age group"
        },
        "updatemenus": [
         {
          "buttons": [
           {
            "args": [
             null,
             {
              "frame": {
               "duration": 500,
               "redraw": true
              },
              "fromcurrent": true,
              "mode": "immediate",
              "transition": {
               "duration": 500,
               "easing": "linear"
              }
             }
            ],
            "label": "&#9654;",
            "method": "animate"
           },
           {
            "args": [
             [
              null
             ],
             {
              "frame": {
               "duration": 0,
               "redraw": true
              },
              "fromcurrent": true,
              "mode": "immediate",
              "transition": {
               "duration": 0,
               "easing": "linear"
              }
             }
            ],
            "label": "&#9724;",
            "method": "animate"
           }
          ],
          "direction": "left",
          "pad": {
           "r": 10,
           "t": 70
          },
          "showactive": false,
          "type": "buttons",
          "x": 0.1,
          "xanchor": "right",
          "y": 0,
          "yanchor": "top"
         }
        ],
        "width": 800,
        "xaxis": {
         "anchor": "y",
         "domain": [
          0,
          1
         ],
         "tickfont": {
          "size": 14
         },
         "title": {
          "font": {
           "color": "black",
           "size": 16
          },
          "text": "Group"
         }
        },
        "yaxis": {
         "anchor": "x",
         "domain": [
          0,
          1
         ],
         "tickfont": {
          "size": 14
         },
         "tickformat": ".0%",
         "title": {
          "font": {
           "color": "black",
           "size": 16
          },
          "text": "Poverty rate"
         }
        }
       }
      }
     },
     "metadata": {},
     "output_type": "display_data"
    }
   ],
   "source": [
    "import pandas as pd\n",
    "import plotly.express as px\n",
    "from ubicenter import format_fig\n",
    "from ubicenter.plotly import BLUE_COLOR_SEQUENCE\n",
    "\n",
    "def get_poverty_rates(simulation: Microsimulation, label: str, deep_poverty: bool = False) -> pd.DataFrame:\n",
    "    in_poverty = simulation.calc(f\"spm_unit_is_in{'_deep' if deep_poverty else ''}_spm_poverty\", map_to=\"person\")\n",
    "    group_names = [\"Children\", \"Adults\", \"Seniors\", \"All\"]\n",
    "    poverty_rates = []\n",
    "    for group in (\"is_child\", \"is_wa_adult\", \"is_senior\", \"people\"):\n",
    "        poverty_rates.append(in_poverty[simulation.calc(group) > 0].mean())\n",
    "    return pd.DataFrame({\n",
    "        \"Group\": group_names,\n",
    "        \"Poverty rate\": poverty_rates,\n",
    "        \"Label\": label,\n",
    "        \"Type\": \"Poverty\" if not deep_poverty else \"Deep poverty\",\n",
    "    })\n",
    "\n",
    "def get_regular_and_deep_poverty_rates(simulation: Microsimulation, label: str) -> pd.DataFrame:\n",
    "    regular_df = get_poverty_rates(simulation, label, deep_poverty=False)\n",
    "    deep_df = get_poverty_rates(simulation, label, deep_poverty=True)\n",
    "    return pd.concat([regular_df, deep_df])\n",
    "\n",
    "simulations = [baseline, vehicle_subsidy_simulation, ubi_simulation]\n",
    "labels = [\"Baseline\", \"Vehicle subsidy\", \"UBI\"]\n",
    "\n",
    "poverty_rate_df = pd.concat([get_regular_and_deep_poverty_rates(simulation, label) for simulation, label in zip(simulations, labels)])\n",
    "\n",
    "hover_cards = []\n",
    "\n",
    "for i, row in poverty_rate_df.iterrows():\n",
    "    poverty_label = \"poverty\" if row[\"Type\"] == \"Poverty\" else \"deep poverty\"\n",
    "    if row[\"Label\"] == \"Baseline\":\n",
    "        hover = f\"The current {poverty_label} rate for <b>{row['Group'].lower()}</b> is <b>{row['Poverty rate']:.1%}</b>\"\n",
    "    else:\n",
    "        baseline_rate = poverty_rate_df.loc[(poverty_rate_df[\"Label\"] == \"Baseline\") & (poverty_rate_df[\"Type\"] == row[\"Type\"]), \"Poverty rate\"].iloc[0]\n",
    "        if row[\"Label\"] == \"Vehicle subsidy\":\n",
    "            # Something like: \"Under the vehicle subsidy, the poverty rate for children would rise/fall to x% (+/- y%)\"\n",
    "            hover = f\"Under the vehicle subsidy, the{poverty_label} rate for <b>{row['Group'].lower()}</b> would fall<br> to <b>{row['Poverty rate']:.1%}</b> ({(row['Poverty rate'] - baseline_rate) / baseline_rate:.1%})\"\n",
    "        else:\n",
    "            # Something like: \"Under a UBI, the poverty rate for children would rise/fall to x% (+/- y%)\"\n",
    "            hover = f\"Under a UBI, the {poverty_label} rate for <b>{row['Group'].lower()}</b> would fall<br> to <b>{row['Poverty rate']:.1%}</b> ({(row['Poverty rate'] - baseline_rate) / baseline_rate:.1%})\"\n",
    "    hover_cards.append(hover)\n",
    "\n",
    "poverty_rate_df[\"hover_card\"] = hover_cards\n",
    "fig = px.bar(\n",
    "    poverty_rate_df, \n",
    "    x=\"Group\", \n",
    "    y=\"Poverty rate\", \n",
    "    color=\"Label\", \n",
    "    barmode=\"group\", \n",
    "    color_discrete_sequence=BLUE_COLOR_SEQUENCE, \n",
    "    custom_data=[\"hover_card\"],\n",
    "    animation_frame=\"Type\",\n",
    ").update_layout(\n",
    "    title=\"Poverty rate by age group\",\n",
    "    yaxis_tickformat=\".0%\",\n",
    "    legend_title=\"\"\n",
    ").update_traces(\n",
    "    hovertemplate=\"%{customdata[0]}\",\n",
    ")\n",
    "format_fig(fig)"
   ]
  }
 ],
 "metadata": {
  "interpreter": {
   "hash": "acd536c30d59fb9239b78f26155dcd58ce48444653c59c0cbc6c2d93043c3f07"
  },
  "kernelspec": {
   "display_name": "Python 3",
   "language": "python",
   "name": "python3"
  },
  "language_info": {
   "codemirror_mode": {
    "name": "ipython",
    "version": 3
   },
   "file_extension": ".py",
   "mimetype": "text/x-python",
   "name": "python",
   "nbconvert_exporter": "python",
   "pygments_lexer": "ipython3",
   "version": "3.7.11"
  }
 },
 "nbformat": 4,
 "nbformat_minor": 4
}
